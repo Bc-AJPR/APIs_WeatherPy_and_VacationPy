{
 "cells": [
  {
   "cell_type": "markdown",
   "id": "82d58643",
   "metadata": {},
   "source": [
    "# Observed Trends "
   ]
  },
  {
   "cell_type": "markdown",
   "id": "8b9269b5",
   "metadata": {},
   "source": [
    "\n",
    "1.\t The Southern Hemisphere max temperature versus Latitude regression graph has a less tendency on temperature increase than the northern one; furthermore, the max temperature for the Southern  Hemisphere is 50 degrees cooler than the northern one at the same Latitude. Therefore, it is fair to say that the best fit line of the Northern Hemisphere can more accurately predict temperature values.\n",
    "\n",
    "2.\tWind speed in Southern Hemisphere is scared all over the graph; the linear regression does not represent the data. In the Northern Hemisphere, the data follows the best fit line, predicting Y's value (wind speed) much more accurately.\n",
    "\n",
    "3.\tIn general, the scatter plots depict a more chaotic Southern Hemisphere where data points are spread all over, in contrast to very organized and predictable weather on the north half of the planet. Nevertheless, in the second part of this analysis, the two elected cities ended up on the Southern half despite the disparity. \n"
   ]
  }
 ],
 "metadata": {
  "kernelspec": {
   "display_name": "Python 3 (ipykernel)",
   "language": "python",
   "name": "python3"
  },
  "language_info": {
   "codemirror_mode": {
    "name": "ipython",
    "version": 3
   },
   "file_extension": ".py",
   "mimetype": "text/x-python",
   "name": "python",
   "nbconvert_exporter": "python",
   "pygments_lexer": "ipython3",
   "version": "3.9.7"
  }
 },
 "nbformat": 4,
 "nbformat_minor": 5
}
