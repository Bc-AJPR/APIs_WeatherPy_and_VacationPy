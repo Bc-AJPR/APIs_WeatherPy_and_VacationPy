{
 "cells": [
  {
   "cell_type": "markdown",
   "metadata": {},
   "source": [
    "# VacationPy\n",
    "----\n",
    "\n",
    "#### Note\n",
    "* Keep an eye on your API usage. Use https://developers.google.com/maps/reporting/gmp-reporting as reference for how to monitor your usage and billing.\n",
    "\n",
    "* Instructions have been included for each segment. You do not have to follow them exactly, but they are included to help you think through the steps."
   ]
  },
  {
   "cell_type": "code",
   "execution_count": 1,
   "metadata": {
    "scrolled": false
   },
   "outputs": [],
   "source": [
    "# Dependencies and Setup\n",
    "import matplotlib.pyplot as plt\n",
    "import pandas as pd\n",
    "import numpy as np\n",
    "import requests\n",
    "import gmaps\n",
    "import os\n",
    "import warnings\n",
    "warnings.filterwarnings('ignore')\n",
    "\n",
    "# Import API key\n",
    "from api_keys import g_key\n",
    "gmaps.configure(api_key=g_key)"
   ]
  },
  {
   "cell_type": "markdown",
   "metadata": {},
   "source": [
    "### Store Part I results into DataFrame\n",
    "* Load the csv exported in Part I to a DataFrame"
   ]
  },
  {
   "cell_type": "code",
   "execution_count": 2,
   "metadata": {
    "scrolled": false
   },
   "outputs": [
    {
     "data": {
      "text/html": [
       "<div>\n",
       "<style scoped>\n",
       "    .dataframe tbody tr th:only-of-type {\n",
       "        vertical-align: middle;\n",
       "    }\n",
       "\n",
       "    .dataframe tbody tr th {\n",
       "        vertical-align: top;\n",
       "    }\n",
       "\n",
       "    .dataframe thead th {\n",
       "        text-align: right;\n",
       "    }\n",
       "</style>\n",
       "<table border=\"1\" class=\"dataframe\">\n",
       "  <thead>\n",
       "    <tr style=\"text-align: right;\">\n",
       "      <th></th>\n",
       "      <th>Unnamed: 0</th>\n",
       "      <th>City</th>\n",
       "      <th>Lat</th>\n",
       "      <th>Lng</th>\n",
       "      <th>Max Temp</th>\n",
       "      <th>Humidity</th>\n",
       "      <th>Cloudiness</th>\n",
       "      <th>Wind Speed</th>\n",
       "      <th>Country</th>\n",
       "      <th>Date</th>\n",
       "    </tr>\n",
       "  </thead>\n",
       "  <tbody>\n",
       "    <tr>\n",
       "      <th>0</th>\n",
       "      <td>0</td>\n",
       "      <td>Norman Wells</td>\n",
       "      <td>65.2820</td>\n",
       "      <td>-126.8329</td>\n",
       "      <td>-12.96</td>\n",
       "      <td>70</td>\n",
       "      <td>100</td>\n",
       "      <td>18.41</td>\n",
       "      <td>CA</td>\n",
       "      <td>1644204055</td>\n",
       "    </tr>\n",
       "    <tr>\n",
       "      <th>1</th>\n",
       "      <td>1</td>\n",
       "      <td>Pangnirtung</td>\n",
       "      <td>66.1451</td>\n",
       "      <td>-65.7125</td>\n",
       "      <td>-38.09</td>\n",
       "      <td>96</td>\n",
       "      <td>100</td>\n",
       "      <td>4.47</td>\n",
       "      <td>CA</td>\n",
       "      <td>1644204397</td>\n",
       "    </tr>\n",
       "    <tr>\n",
       "      <th>2</th>\n",
       "      <td>2</td>\n",
       "      <td>Lavrentiya</td>\n",
       "      <td>65.5833</td>\n",
       "      <td>-171.0000</td>\n",
       "      <td>-15.63</td>\n",
       "      <td>95</td>\n",
       "      <td>56</td>\n",
       "      <td>5.19</td>\n",
       "      <td>RU</td>\n",
       "      <td>1644204530</td>\n",
       "    </tr>\n",
       "    <tr>\n",
       "      <th>3</th>\n",
       "      <td>3</td>\n",
       "      <td>Camaçari</td>\n",
       "      <td>-12.6975</td>\n",
       "      <td>-38.3242</td>\n",
       "      <td>82.17</td>\n",
       "      <td>89</td>\n",
       "      <td>95</td>\n",
       "      <td>3.67</td>\n",
       "      <td>BR</td>\n",
       "      <td>1644204579</td>\n",
       "    </tr>\n",
       "    <tr>\n",
       "      <th>4</th>\n",
       "      <td>4</td>\n",
       "      <td>Faanui</td>\n",
       "      <td>-16.4833</td>\n",
       "      <td>-151.7500</td>\n",
       "      <td>81.01</td>\n",
       "      <td>75</td>\n",
       "      <td>100</td>\n",
       "      <td>20.13</td>\n",
       "      <td>PF</td>\n",
       "      <td>1644204048</td>\n",
       "    </tr>\n",
       "  </tbody>\n",
       "</table>\n",
       "</div>"
      ],
      "text/plain": [
       "   Unnamed: 0          City      Lat       Lng  Max Temp  Humidity  \\\n",
       "0           0  Norman Wells  65.2820 -126.8329    -12.96        70   \n",
       "1           1   Pangnirtung  66.1451  -65.7125    -38.09        96   \n",
       "2           2    Lavrentiya  65.5833 -171.0000    -15.63        95   \n",
       "3           3      Camaçari -12.6975  -38.3242     82.17        89   \n",
       "4           4        Faanui -16.4833 -151.7500     81.01        75   \n",
       "\n",
       "   Cloudiness  Wind Speed Country        Date  \n",
       "0         100       18.41      CA  1644204055  \n",
       "1         100        4.47      CA  1644204397  \n",
       "2          56        5.19      RU  1644204530  \n",
       "3          95        3.67      BR  1644204579  \n",
       "4         100       20.13      PF  1644204048  "
      ]
     },
     "execution_count": 2,
     "metadata": {},
     "output_type": "execute_result"
    }
   ],
   "source": [
    "file_to_load = \"../output_data/cities.csv\"\n",
    "# Read Purchasing File and store into Pandas data frame\n",
    "cities_data_1 = pd.read_csv(file_to_load)\n",
    "cities_data_1.head()"
   ]
  },
  {
   "cell_type": "markdown",
   "metadata": {},
   "source": [
    "### Humidity Heatmap\n",
    "* Configure gmaps.\n",
    "* Use the Lat and Lng as locations and Humidity as the weight.\n",
    "* Add Heatmap layer to map."
   ]
  },
  {
   "cell_type": "code",
   "execution_count": 3,
   "metadata": {
    "scrolled": true
   },
   "outputs": [
    {
     "data": {
      "application/vnd.jupyter.widget-view+json": {
       "model_id": "cfdc5a0763a24b8c8d95c28f69431c9d",
       "version_major": 2,
       "version_minor": 0
      },
      "text/plain": [
       "Figure(layout=FigureLayout(height='420px'))"
      ]
     },
     "metadata": {},
     "output_type": "display_data"
    }
   ],
   "source": [
    "#set data for gmaps\n",
    "locations = cities_data_1[[\"Lat\", \"Lng\"]]\n",
    "humidity = cities_data_1['Humidity'].astype(int)\n",
    "maxhumidity = humidity.max()\n",
    "\n",
    "# # Plot Heatmap\n",
    "center_is = (40.46,3.75)\n",
    "figure = gmaps.figure(layout={\n",
    "        'width': '1200px',\n",
    "        'height': '900px',\n",
    "        'padding': '3px',\n",
    "        'border': '1px solid black'\n",
    "})\n",
    "figure = gmaps.figure()\n",
    "figure = gmaps.figure(zoom_level = 1.5,\n",
    "                      center = center_is)\n",
    "# # Create heat layer\n",
    "heat_layer = gmaps.heatmap_layer(locations, weights=humidity, dissipating=False, max_intensity=maxhumidity, point_radius=2)\n",
    "# # Add layer\n",
    "figure.add_layer(heat_layer)\n",
    "# # Display figure\n",
    "figure"
   ]
  },
  {
   "cell_type": "markdown",
   "metadata": {},
   "source": [
    "### Create new DataFrame fitting weather criteria\n",
    "* Narrow down the cities to fit weather conditions.\n",
    "* Drop any rows will null values."
   ]
  },
  {
   "cell_type": "code",
   "execution_count": 4,
   "metadata": {
    "scrolled": false
   },
   "outputs": [],
   "source": [
    "#set colors for the while loop responses\n",
    "class bcolors:\n",
    "    OK = '\\033[92m' #GREEN\n",
    "    WARNING = '\\033[93m' #YELLOW\n",
    "    FAIL = '\\033[91m' #RED\n",
    "    RESET = '\\033[0m' #RESET COLOR"
   ]
  },
  {
   "cell_type": "code",
   "execution_count": 20,
   "metadata": {
    "scrolled": false
   },
   "outputs": [
    {
     "name": "stdout",
     "output_type": "stream",
     "text": [
      "---Please enter a value between 70 and 90 (no decimals)---\n",
      "\n",
      "What is the lowest temperature you desired?70\n",
      "What about the hotest?88\n",
      "---Please enter a value between 0.0 and 10.0---\n",
      "How windy do you like your vacation?9\n"
     ]
    }
   ],
   "source": [
    "#set user input\n",
    "print(f'---Please enter a value between 70 and 90 (no decimals)---\\n')\n",
    "while True:\n",
    "    try:\n",
    "        min_t = int(input('What is the lowest temperature you desired?'))\n",
    "    except ValueError:\n",
    "        print(f'{bcolors.WARNING}Value must be a number.{bcolors.RESET}')\n",
    "    else:\n",
    "        if 69 < min_t < 91:\n",
    "            break\n",
    "        else:\n",
    "            print(f'{bcolors.FAIL}Value must be between 70 and 90!{bcolors.RESET}')\n",
    "while True:\n",
    "    try:\n",
    "        max_t = int(input('What about the hotest?'))\n",
    "    except ValueError:\n",
    "        print(f'{bcolors.WARNING}Value must be a number.{bcolors.RESET}')\n",
    "    else:\n",
    "        if min_t+1 < max_t < 91:\n",
    "            break\n",
    "        else:\n",
    "            print(f'{bcolors.FAIL}Value must be between {min_t+2} and 95{bcolors.RESET}')\n",
    "print(f'---Please enter a value between 0.0 and 10.0---' )\n",
    "while True:\n",
    "    try:\n",
    "        wind_s = float(input('How windy do you like your vacation?'))\n",
    "    except ValueError:\n",
    "        print(f'{bcolors.WARNING}Value must be a number.{bcolors.RESET}')\n",
    "    else:\n",
    "        if 0.0 <= wind_s <= 10.0:\n",
    "            break\n",
    "        else:\n",
    "            print(f'{bcolors.FAIL}Value must be between 0.0 and 10.0!{bcolors.RESET}')"
   ]
  },
  {
   "cell_type": "code",
   "execution_count": 21,
   "metadata": {
    "scrolled": false
   },
   "outputs": [
    {
     "name": "stdout",
     "output_type": "stream",
     "text": [
      "Threre are(is) --2-- citie(s) based on you criteria:\n",
      "These are your selections!\n",
      "Temperatures between 70 and 88.\n",
      "Wind speed of 9.0and Zero cloudiness\n",
      "None\n"
     ]
    },
    {
     "data": {
      "text/html": [
       "<div>\n",
       "<style scoped>\n",
       "    .dataframe tbody tr th:only-of-type {\n",
       "        vertical-align: middle;\n",
       "    }\n",
       "\n",
       "    .dataframe tbody tr th {\n",
       "        vertical-align: top;\n",
       "    }\n",
       "\n",
       "    .dataframe thead th {\n",
       "        text-align: right;\n",
       "    }\n",
       "</style>\n",
       "<table border=\"1\" class=\"dataframe\">\n",
       "  <thead>\n",
       "    <tr style=\"text-align: right;\">\n",
       "      <th></th>\n",
       "      <th>Unnamed: 0</th>\n",
       "      <th>City</th>\n",
       "      <th>Lat</th>\n",
       "      <th>Lng</th>\n",
       "      <th>Max Temp</th>\n",
       "      <th>Humidity</th>\n",
       "      <th>Cloudiness</th>\n",
       "      <th>Wind Speed</th>\n",
       "      <th>Country</th>\n",
       "      <th>Date</th>\n",
       "    </tr>\n",
       "  </thead>\n",
       "  <tbody>\n",
       "    <tr>\n",
       "      <th>0</th>\n",
       "      <td>170</td>\n",
       "      <td>New Norfolk</td>\n",
       "      <td>-42.7826</td>\n",
       "      <td>147.0587</td>\n",
       "      <td>81.66</td>\n",
       "      <td>28</td>\n",
       "      <td>0</td>\n",
       "      <td>3.00</td>\n",
       "      <td>AU</td>\n",
       "      <td>1644204764</td>\n",
       "    </tr>\n",
       "    <tr>\n",
       "      <th>1</th>\n",
       "      <td>454</td>\n",
       "      <td>Lokoja</td>\n",
       "      <td>7.8024</td>\n",
       "      <td>6.7430</td>\n",
       "      <td>72.28</td>\n",
       "      <td>21</td>\n",
       "      <td>0</td>\n",
       "      <td>1.99</td>\n",
       "      <td>NG</td>\n",
       "      <td>1644205057</td>\n",
       "    </tr>\n",
       "  </tbody>\n",
       "</table>\n",
       "</div>"
      ],
      "text/plain": [
       "   Unnamed: 0         City      Lat       Lng  Max Temp  Humidity  Cloudiness  \\\n",
       "0         170  New Norfolk -42.7826  147.0587     81.66        28           0   \n",
       "1         454       Lokoja   7.8024    6.7430     72.28        21           0   \n",
       "\n",
       "   Wind Speed Country        Date  \n",
       "0        3.00      AU  1644204764  \n",
       "1        1.99      NG  1644205057  "
      ]
     },
     "execution_count": 21,
     "metadata": {},
     "output_type": "execute_result"
    }
   ],
   "source": [
    "vacation_df = cities_data_1[(cities_data_1['Max Temp'].between(min_t,max_t)) & (cities_data_1['Wind Speed']<=wind_s) & (cities_data_1['Humidity']<=45)& (cities_data_1[\"Cloudiness\"] == 0)]\n",
    "vacation_df.reset_index(inplace=True)\n",
    "del vacation_df['index']\n",
    "message =print(f'Threre are(is) --{len(vacation_df)}-- citie(s) based on you criteria:\\n'\n",
    "                f'These are your selections!\\n'\n",
    "                f'Temperatures between {min_t} and {max_t}.\\n'\n",
    "                f'Wind speed of {wind_s}and Zero cloudiness'\n",
    "              )\n",
    "print(message)\n",
    "vacation_df"
   ]
  },
  {
   "cell_type": "markdown",
   "metadata": {},
   "source": [
    "### Hotel Map\n",
    "* Store into variable named `hotel_df`.\n",
    "* Add a \"Hotel Name\" column to the DataFrame.\n",
    "* Set parameters to search for hotels with 5000 meters.\n",
    "* Hit the Google Places API for each city's coordinates.\n",
    "* Store the first Hotel result into the DataFrame.\n",
    "* Plot markers on top of the heatmap."
   ]
  },
  {
   "cell_type": "code",
   "execution_count": 22,
   "metadata": {
    "scrolled": false
   },
   "outputs": [],
   "source": [
    "hotel_df = []\n",
    "for x in range(len(vacation_df)):\n",
    "    lat = vacation_df.loc[x]['Lat']\n",
    "    lng = vacation_df.loc[x]['Lng']\n",
    "    params = {\n",
    "        \"location\": f\"{lat},{lng}\",\n",
    "        \"radius\": 5000,\n",
    "        \"types\" : \"hotel\",\n",
    "        \"key\": g_key}\n",
    "    \n",
    "    base_url = \"https://maps.googleapis.com/maps/api/place/nearbysearch/json\"\n",
    "    response = requests.get(base_url, params=params).json()\n",
    "     \n",
    "    try:\n",
    "        hotel_df.append(response['results'][0]['name'])\n",
    "    except:\n",
    "        hotel_df.append(\"\")"
   ]
  },
  {
   "cell_type": "code",
   "execution_count": 23,
   "metadata": {
    "scrolled": false
   },
   "outputs": [
    {
     "data": {
      "text/plain": [
       "0    New Norfolk\n",
       "1         Lokoja\n",
       "Name: Hotel Name, dtype: object"
      ]
     },
     "execution_count": 23,
     "metadata": {},
     "output_type": "execute_result"
    }
   ],
   "source": [
    "#dispalyinf list of hotels\n",
    "vacation_df[\"Hotel Name\"] = hotel_df\n",
    "vacation_df = vacation_df.dropna(how='any')\n",
    "vacation_df['Hotel Name']"
   ]
  },
  {
   "cell_type": "code",
   "execution_count": 24,
   "metadata": {
    "scrolled": false
   },
   "outputs": [],
   "source": [
    "# NOTE: Do not change any of the code in this cell\n",
    "\n",
    "# Using the template add the hotel marks to the heatmap\n",
    "info_box_template = \"\"\"\n",
    "<dl>\n",
    "<dt>Name</dt><dd>{Hotel Name}</dd>\n",
    "<dt>City</dt><dd>{City}</dd>\n",
    "<dt>Country</dt><dd>{Country}</dd>\n",
    "</dl>\n",
    "\"\"\"\n",
    "# Store the DataFrame Row\n",
    "# NOTE: be sure to update with your DataFrame name\n",
    "hotel_info = [info_box_template.format(**row) for index, row in vacation_df.iterrows()]\n",
    "locations = vacation_df[[\"Lat\", \"Lng\"]]"
   ]
  },
  {
   "cell_type": "code",
   "execution_count": 25,
   "metadata": {
    "scrolled": false
   },
   "outputs": [
    {
     "data": {
      "application/vnd.jupyter.widget-view+json": {
       "model_id": "cfdc5a0763a24b8c8d95c28f69431c9d",
       "version_major": 2,
       "version_minor": 0
      },
      "text/plain": [
       "Figure(layout=FigureLayout(height='420px'))"
      ]
     },
     "metadata": {},
     "output_type": "display_data"
    }
   ],
   "source": [
    "# Add marker layer ontop of heat map\n",
    "markers = gmaps.marker_layer(locations, info_box_content = hotel_info)\n",
    "figure.add_layer(markers)\n",
    "\n",
    "# Display figure\n",
    "figure"
   ]
  },
  {
   "cell_type": "code",
   "execution_count": null,
   "metadata": {
    "scrolled": false
   },
   "outputs": [],
   "source": []
  }
 ],
 "metadata": {
  "kernelspec": {
   "display_name": "Python 3 (ipykernel)",
   "language": "python",
   "name": "python3"
  },
  "language_info": {
   "codemirror_mode": {
    "name": "ipython",
    "version": 3
   },
   "file_extension": ".py",
   "mimetype": "text/x-python",
   "name": "python",
   "nbconvert_exporter": "python",
   "pygments_lexer": "ipython3",
   "version": "3.9.7"
  },
  "latex_envs": {
   "LaTeX_envs_menu_present": true,
   "autoclose": false,
   "autocomplete": true,
   "bibliofile": "biblio.bib",
   "cite_by": "apalike",
   "current_citInitial": 1,
   "eqLabelWithNumbers": true,
   "eqNumInitial": 1,
   "hotkeys": {
    "equation": "Ctrl-E",
    "itemize": "Ctrl-I"
   },
   "labels_anchors": false,
   "latex_user_defs": false,
   "report_style_numbering": false,
   "user_envs_cfg": false
  }
 },
 "nbformat": 4,
 "nbformat_minor": 4
}
